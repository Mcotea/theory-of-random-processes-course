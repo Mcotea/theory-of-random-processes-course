{
  "nbformat": 4,
  "nbformat_minor": 0,
  "metadata": {
    "colab": {
      "provenance": []
    },
    "kernelspec": {
      "name": "python3",
      "display_name": "Python 3"
    },
    "language_info": {
      "name": "python"
    }
  },
  "cells": [
    {
      "cell_type": "code",
      "source": [
        "import pandas as pd\n",
        "import numpy as np\n",
        "import random as rd\n",
        "import matplotlib.pyplot as plt\n",
        "from scipy.linalg import solve\n",
        "import networkx as nx"
      ],
      "metadata": {
        "id": "Dv4Zfrd_Za_O"
      },
      "execution_count": null,
      "outputs": []
    },
    {
      "cell_type": "markdown",
      "source": [
        "# Задача:\n",
        "Дана однородная Марковская цепь с данным числом состояний {$S_1$, $S_2$, $...$, $S_m$}. Ненулевые переходные вероятности $p_{ij}$, $i \\neq j$, заданы ниже.\n",
        "\n",
        "\n",
        "---\n",
        "\n",
        "\n",
        "Число состояний Марковской цепи: $m = 5$\\\n",
        "Переходные вероятности: $p_{12} = 0.1$, $p_{23} = 0.2$, $p_{21} = 0.1$, $p_{34} = 0.3$, $p_{45} = 0.4$, $p_{51} = 0.5$\\\n",
        "Шаги: $k = 25$\\\n",
        "Траектории: $n = 100$\n",
        "\n",
        "\n",
        "---\n",
        "\n",
        "\n",
        "**Задание:**\n",
        "1. Выпишите матрицу переходных вероятностей;\n",
        "2. Изобразите размеченный граф Марковской цепи;\n",
        "3. Докажите, что цепь эргодическая;\n",
        "4. Смоделируйте вектор начальных вероятностей $p(0)$ согласно приложенному алгоритму;\n",
        "5. Вычислите безусловные вероятности состояний смоделированной цепи на $k$-ом шаге по формуле из *лекции 1* для полученного $p(0)$;\n",
        "6. Смоделируйте $n$ траекторий полученной цепи за $k$ шагов. Несколько траекторий выведите на печать;\n",
        "7. По полученным реализациям траекторий найдите вектор эмперических безусловных вероятностей состояний цепи на $k$-ом шаге;\n",
        "8. Сравните найденные эмперические вероятности с теоретическими для $k$-ого шага;\n",
        "9. Вычислите финальные вероятности для рассматриваемой Марковской цепи (*лекция 2*) и сравните их с вероятностями состояний на $k$-ом шаге;\n",
        "10. Сформулируйте выводы."
      ],
      "metadata": {
        "id": "Yp7QvsscIo3r"
      }
    },
    {
      "cell_type": "code",
      "source": [
        "m = 5\n",
        "k = 25\n",
        "n = 100"
      ],
      "metadata": {
        "id": "VEuCmntkX0Wx"
      },
      "execution_count": null,
      "outputs": []
    },
    {
      "cell_type": "markdown",
      "source": [
        "# 1\n",
        "Выпишем матрицу переходных состояний:\n",
        "> \n",
        "$\n",
        "P = \\begin{bmatrix}\n",
        "0.9 & 0.1 & 0 & 0 & 0 \\\\\n",
        "0.1 & 0.7 & 0.2 & 0 & 0 \\\\\n",
        "0 & 0 & 0.7 & 0.3 & 0 \\\\\n",
        "0 & 0 & 0 & 0.6 & 0.4 \\\\\n",
        "0.5 & 0 & 0 & 0 & 0.5\n",
        "\\end{bmatrix}\n",
        "$\n",
        "\n"
      ],
      "metadata": {
        "id": "hoGlPOf_NJ2J"
      }
    },
    {
      "cell_type": "code",
      "source": [
        "P = np.array([[0.9, 0.1, 0, 0, 0],\n",
        "     [0.1, 0.7, 0.2, 0, 0],\n",
        "     [0, 0, 0.7, 0.3, 0],\n",
        "     [0, 0, 0, 0.6, 0.4],\n",
        "     [0.5, 0, 0, 0, 0.5]])"
      ],
      "metadata": {
        "id": "qDd6plbiTvc6"
      },
      "execution_count": null,
      "outputs": []
    },
    {
      "cell_type": "markdown",
      "source": [
        "#2\n",
        "Изобразим размеченный граф Марковской цепи:\n",
        ">\n",
        "# ![Диаграмма без названия.drawio.png](data:image/png;base64,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)"
      ],
      "metadata": {
        "id": "ABsnoTpuos5d"
      }
    },
    {
      "cell_type": "markdown",
      "source": [
        "#3\n",
        ">\n",
        "Марковская цепь является эргодической, если существует $\\lim\\limits_{n \\to \\infty} p_{ij}^{(n)} = \\pi_j, 0<\\pi_j<1, \\sum\\limits_j \\pi_j=1$."
      ],
      "metadata": {
        "id": "-ryohu6WtvEp"
      }
    },
    {
      "cell_type": "code",
      "source": [
        "P_2 = np.linalg.matrix_power(P, 2)\n",
        "print(\"n = 2:\\n\", P_2)\n",
        "P_3 = np.linalg.matrix_power(P, 3)\n",
        "print(\"\\nn = 3:\\n\", P_3)\n",
        "P_500 = np.linalg.matrix_power(P, 500)\n",
        "print(\"\\nn = 500:\\n\", P_500)\n",
        "P_1000 = np.linalg.matrix_power(P, 1000)\n",
        "print(\"\\nn = 1000:\\n\", P_1000)"
      ],
      "metadata": {
        "colab": {
          "base_uri": "https://localhost:8080/"
        },
        "id": "aI4PORqXnskT",
        "outputId": "0c9a0584-4241-4207-a9a0-93dcf1885a49"
      },
      "execution_count": null,
      "outputs": [
        {
          "output_type": "stream",
          "name": "stdout",
          "text": [
            "n = 2:\n",
            " [[0.82 0.16 0.02 0.   0.  ]\n",
            " [0.16 0.5  0.28 0.06 0.  ]\n",
            " [0.   0.   0.49 0.39 0.12]\n",
            " [0.2  0.   0.   0.36 0.44]\n",
            " [0.7  0.05 0.   0.   0.25]]\n",
            "\n",
            "n = 3:\n",
            " [[0.754 0.194 0.046 0.006 0.   ]\n",
            " [0.194 0.366 0.296 0.12  0.024]\n",
            " [0.06  0.    0.343 0.381 0.216]\n",
            " [0.4   0.02  0.    0.216 0.364]\n",
            " [0.76  0.105 0.01  0.    0.125]]\n",
            "\n",
            "n = 500:\n",
            " [[0.53892216 0.17964072 0.11976048 0.08982036 0.07185629]\n",
            " [0.53892216 0.17964072 0.11976048 0.08982036 0.07185629]\n",
            " [0.53892216 0.17964072 0.11976048 0.08982036 0.07185629]\n",
            " [0.53892216 0.17964072 0.11976048 0.08982036 0.07185629]\n",
            " [0.53892216 0.17964072 0.11976048 0.08982036 0.07185629]]\n",
            "\n",
            "n = 1000:\n",
            " [[0.53892216 0.17964072 0.11976048 0.08982036 0.07185629]\n",
            " [0.53892216 0.17964072 0.11976048 0.08982036 0.07185629]\n",
            " [0.53892216 0.17964072 0.11976048 0.08982036 0.07185629]\n",
            " [0.53892216 0.17964072 0.11976048 0.08982036 0.07185629]\n",
            " [0.53892216 0.17964072 0.11976048 0.08982036 0.07185629]]\n"
          ]
        }
      ]
    },
    {
      "cell_type": "markdown",
      "source": [
        "Следовательно, существует $\\lim\\limits_{n \\to \\infty} p_{ij}^{(n)} = \\pi_j, 0<\\pi_j<1$."
      ],
      "metadata": {
        "id": "hVVkY51QJcaj"
      }
    },
    {
      "cell_type": "code",
      "source": [
        "print(np.sum(P_1000[0]).round(5))"
      ],
      "metadata": {
        "colab": {
          "base_uri": "https://localhost:8080/"
        },
        "id": "PJ8hvwSbIkUB",
        "outputId": "abced748-9a8e-49db-8d4b-1587ad108ba3"
      },
      "execution_count": null,
      "outputs": [
        {
          "output_type": "stream",
          "name": "stdout",
          "text": [
            "1.0\n"
          ]
        }
      ]
    },
    {
      "cell_type": "markdown",
      "source": [
        "Следовательно, $\\sum\\limits_j \\pi_j=1$.\n",
        "Таким образом, Марковская цепь является эргодической."
      ],
      "metadata": {
        "id": "SqfEbrCZKPqW"
      }
    },
    {
      "cell_type": "markdown",
      "source": [
        "#4\n",
        "**Моделируем вектор начальных состояний $p(0)$.\n",
        "Для этого:**\n",
        "\n",
        "\n",
        "*   Генерируем вектор $\\vec{r}=(r_1, r_2, ..., r_{m - 1})$ из независимых и равномерно распределённых на отрезке $[0, 1]$ случайных величин\n",
        "\n"
      ],
      "metadata": {
        "id": "LgWjIyNBKtzR"
      }
    },
    {
      "cell_type": "code",
      "source": [
        "r = np.random.uniform(0, 1, m - 1)\n",
        "print(r)"
      ],
      "metadata": {
        "colab": {
          "base_uri": "https://localhost:8080/"
        },
        "id": "2cT7HeOlKEXI",
        "outputId": "2381dbb0-175f-45ce-d6fb-5ec42b603ee2"
      },
      "execution_count": null,
      "outputs": [
        {
          "output_type": "stream",
          "name": "stdout",
          "text": [
            "[0.3770199  0.7992701  0.64399013 0.64306595]\n"
          ]
        }
      ]
    },
    {
      "cell_type": "markdown",
      "source": [
        "\n",
        "\n",
        "*   Строим вариационный ряд $\\vec{r_{()}} = (r_{i_1}, r_{i_2}, ..., r_{i_{m-1}})$, т.е. упорядочиваем по возрастанию.\n"
      ],
      "metadata": {
        "id": "BP0TxJmrMx73"
      }
    },
    {
      "cell_type": "code",
      "source": [
        "var_r = sorted(r)\n",
        "for i in var_r:\n",
        "  print(i)"
      ],
      "metadata": {
        "colab": {
          "base_uri": "https://localhost:8080/"
        },
        "id": "aDHm4eWWMK93",
        "outputId": "c5a77cda-e5c4-4bab-d888-a295e9034e04"
      },
      "execution_count": null,
      "outputs": [
        {
          "output_type": "stream",
          "name": "stdout",
          "text": [
            "0.3770199012947605\n",
            "0.6430659498269742\n",
            "0.6439901308408129\n",
            "0.7992701019159666\n"
          ]
        }
      ]
    },
    {
      "cell_type": "markdown",
      "source": [
        "*   Находим длины отрезков, на которые вектор $\\vec{r_{()}}$ разбивает отрезок $[0, 1]$ $-$ получаем вектор начальных вероятностей $\\vec{p} = (r_{i_1}, r_{i_2} - r_{i_1}, ..., 1 - r_{i_{m - 1}}) = p(0)^T$"
      ],
      "metadata": {
        "id": "ztpXh9Z8Ol9w"
      }
    },
    {
      "cell_type": "code",
      "source": [
        "lengths = []\n",
        "lengths.append(var_r[0])\n",
        "for i in range(1, m - 1):\n",
        "    length = var_r[i] - var_r[i - 1]\n",
        "    lengths.append(length)\n",
        "lengths.append(1 - var_r[m - 2])\n",
        "print(\"Длины отрезков:\")\n",
        "for i in lengths:\n",
        "  print(i)\n",
        "print(\"Сумма этих длин:\\n\", sum(lengths))"
      ],
      "metadata": {
        "colab": {
          "base_uri": "https://localhost:8080/"
        },
        "id": "-vNjsaMGNojr",
        "outputId": "90b51459-95db-4e35-d343-073d83df742f"
      },
      "execution_count": null,
      "outputs": [
        {
          "output_type": "stream",
          "name": "stdout",
          "text": [
            "Длины отрезков:\n",
            "0.3770199012947605\n",
            "0.2660460485322137\n",
            "0.0009241810138387319\n",
            "0.15527997107515368\n",
            "0.2007298980840334\n",
            "Сумма этих длин:\n",
            " 1.0\n"
          ]
        }
      ]
    },
    {
      "cell_type": "markdown",
      "source": [
        "#5\n",
        "Вычисляем безусловные вероятности состояний смоделированной цепи на  $k$ -ом шаге для полученного $p(0)$:"
      ],
      "metadata": {
        "id": "X56utl-BTD1H"
      }
    },
    {
      "cell_type": "code",
      "source": [
        "k_i = rd.randint(0, 25)\n",
        "P_k = np.linalg.matrix_power(P, k_i)\n",
        "p_0 = lengths\n",
        "total = np.dot(p_0, P_k)\n",
        "print(total)\n",
        "print(round(sum(total), 5))"
      ],
      "metadata": {
        "colab": {
          "base_uri": "https://localhost:8080/"
        },
        "id": "8moPO3v9QQKa",
        "outputId": "887c1aef-dbdd-42b0-9df7-5e6d5028b28b"
      },
      "execution_count": null,
      "outputs": [
        {
          "output_type": "stream",
          "name": "stdout",
          "text": [
            "[0.53913211 0.17952386 0.1196105  0.08977836 0.07195517]\n",
            "1.0\n"
          ]
        }
      ]
    },
    {
      "cell_type": "markdown",
      "source": [
        "#6\n",
        "Моделируем $n$ траекторий полученной цепи за $k$ шагов. Для этого:\n",
        "\n",
        "\n",
        "*   Генерируем равномерно распределённую на $[0, 1]$ случайную величину $r_0$ и по вектору $p(0)$ разыгрываем начальное состояние следующим образом: если $r_0 \\leq r_{i_1}$, то полагаем $\\xi_0 = S_1$, если $r_{i_1} < r_0 \\leq r_{i_2}$, то полагаем $\\xi_0 = S_2$ и т.д. Пусть $\\xi_0 = S_{j_0}$.\n",
        "\n",
        "*   Генерируем ещё одно значение $r_1$ и по строке с номером $j_0$ матрицы $P$ аналогично предыдущему пункту разыгрываем значение $\\xi_1 = S_{j_1}$.\n",
        "\n",
        "*   Повторяем алгоритм заданное число $k$ раз. Получаем выборочную траекторию цепи: $S_{j_0}, S_{j_1}, ..., S_{j_k}$.\n",
        "*   Повторяем процедуру $1) - 3)$ заданное число $n$ раз."
      ],
      "metadata": {
        "id": "iNSYuoaWc_ZK"
      }
    },
    {
      "cell_type": "code",
      "source": [
        "def stp_0(r0):\n",
        "  if (r0 <= var_r[0]): return 1\n",
        "  if (var_r[0] < r0 <= var_r[1]): return 2\n",
        "  if (var_r[1] < r0 <= var_r[2]): return 3\n",
        "  if (var_r[2] < r0 <= var_r[3]): return 4\n",
        "  if (r0 > var_r[3]): return 5\n",
        "\n",
        "def stp_1(r1, num):\n",
        "  num -= 1\n",
        "  if num == 0:\n",
        "    if (r1 <= 0.1): return 2\n",
        "    else: return 1\n",
        "  if num == 1:\n",
        "    if (r1 <= 0.1): return 1\n",
        "    if (0.1 < r1 <= 0.3): return 3\n",
        "    else: return 2\n",
        "  if num == 2:\n",
        "    if (r1 <= 0.3): return 4\n",
        "    else: return 3\n",
        "  if num == 3: \n",
        "    if (r1 <= 0.4): return 5\n",
        "    else: return 4\n",
        "  if num == 4:\n",
        "    if (r1 <= 0.5): return 1\n",
        "    else: return 5\n",
        "\n",
        "tracks = []\n",
        "for i in range(n):\n",
        "  track = []\n",
        "  r_0 = rd.random()\n",
        "  first = stp_0(r_0)\n",
        "  track.append(first)\n",
        "  nu = first\n",
        "  for j in range(k):\n",
        "    r_ = rd.random()\n",
        "    tmp = stp_1(r_, nu)\n",
        "    track.append(tmp)\n",
        "    nu = tmp\n",
        "  tracks.append(track)"
      ],
      "metadata": {
        "id": "l7fPbnyFufFc"
      },
      "execution_count": null,
      "outputs": []
    },
    {
      "cell_type": "markdown",
      "source": [
        "Напечатаем несколько траекторий:"
      ],
      "metadata": {
        "id": "54tnanQMZujD"
      }
    },
    {
      "cell_type": "code",
      "source": [
        "print(\"1-я траектория: \", tracks[0][0:13])\n",
        "print(\"                \", tracks[0][13::])\n",
        "print(\"50-я траектория: \", tracks[n // 2][0:13])\n",
        "print(\"                 \", tracks[n // 2][13::])\n",
        "print(\"100-я траектория: \", tracks[n - 1][0:13])\n",
        "print(\"                  \", tracks[n - 1][13::])\n",
        "print(\"Случайная траектория \", tracks[rd.randint(0, 100)][0:13])\n",
        "print(\"                     \", tracks[rd.randint(0, 100)][13::])"
      ],
      "metadata": {
        "colab": {
          "base_uri": "https://localhost:8080/"
        },
        "id": "RfIG1To9YTFP",
        "outputId": "433f8a43-c350-4f77-bb86-63169655a7bf"
      },
      "execution_count": null,
      "outputs": [
        {
          "output_type": "stream",
          "name": "stdout",
          "text": [
            "1-я траектория:  [2, 2, 3, 3, 3, 4, 4, 4, 4, 5, 5, 5, 5]\n",
            "                 [5, 1, 1, 1, 1, 1, 1, 1, 1, 1, 1, 1, 1]\n",
            "50-я траектория:  [1, 1, 1, 1, 2, 2, 2, 1, 1, 1, 1, 1, 1]\n",
            "                  [1, 1, 2, 2, 2, 2, 2, 2, 3, 4, 4, 5, 1]\n",
            "100-я траектория:  [1, 1, 1, 1, 1, 1, 1, 1, 1, 1, 1, 2, 3]\n",
            "                   [3, 3, 3, 3, 3, 4, 5, 1, 1, 1, 2, 3, 3]\n",
            "Случайная траектория  [2, 2, 2, 2, 2, 2, 3, 3, 3, 3, 4, 4, 5]\n",
            "                      [4, 5, 5, 1, 1, 1, 1, 1, 1, 1, 1, 1, 1]\n"
          ]
        }
      ]
    },
    {
      "cell_type": "markdown",
      "source": [
        "#7\n",
        "По полученным реализациям траекторий найдём вектор эмпирических безусловных вероятностей состояний цепи на $k$-ом шаге. Для этого подсчитываем число $n_j$ смоделированных траекторий, находящихся в состоянии $S_j$ на $k$-ом шаге и делим на общее число траекторий $n$. Получаем вектор $\\hat{p}(k)$ и сравниваем его с $p(k)$."
      ],
      "metadata": {
        "id": "wALGd436c6Ob"
      }
    },
    {
      "cell_type": "code",
      "source": [
        "sost = [0] * m\n",
        "for i in range(n):\n",
        "  if tracks[i][k_i] == 1:\n",
        "    sost[0] += 1\n",
        "  elif tracks[i][k_i] == 2:\n",
        "    sost[1] += 1\n",
        "  elif tracks[i][k_i] == 3:\n",
        "    sost[2] += 1\n",
        "  elif tracks[i][k_i] == 4:\n",
        "    sost[3] += 1\n",
        "  elif tracks[i][k_i] == 5:\n",
        "    sost[4] += 1"
      ],
      "metadata": {
        "id": "NUY_z4sjaP2t"
      },
      "execution_count": null,
      "outputs": []
    },
    {
      "cell_type": "code",
      "source": [
        "print(\"Число траекторий,\\nнаходящихся в каждом состоянии\\nна случайном k-ом шаге:\\n\", sost)"
      ],
      "metadata": {
        "colab": {
          "base_uri": "https://localhost:8080/"
        },
        "id": "BidZ3TEMiQ2t",
        "outputId": "4a200440-455f-40b6-baf7-2ec2d2425e0d"
      },
      "execution_count": null,
      "outputs": [
        {
          "output_type": "stream",
          "name": "stdout",
          "text": [
            "Число траекторий,\n",
            "находящихся в каждом состоянии\n",
            "на случайном k-ом шаге:\n",
            " [65, 15, 6, 8, 6]\n"
          ]
        }
      ]
    },
    {
      "cell_type": "code",
      "source": [
        "p_k_ = [x / n for x in sost]"
      ],
      "metadata": {
        "id": "CeMQj85JiquR"
      },
      "execution_count": null,
      "outputs": []
    },
    {
      "cell_type": "code",
      "source": [
        "print(\"Вектор эмпирических безусловных вероятностей\\nсостояний цепи на случайном k-ом шаге:\\n\", p_k_)\n",
        "print(\"Проверка, сумма вероятностей равна: \", round(sum(p_k_), 5))"
      ],
      "metadata": {
        "colab": {
          "base_uri": "https://localhost:8080/"
        },
        "id": "S6EFw2kRkmdE",
        "outputId": "baaa11f5-0c09-42d8-ca8d-2750bb0326a7"
      },
      "execution_count": null,
      "outputs": [
        {
          "output_type": "stream",
          "name": "stdout",
          "text": [
            "Вектор эмпирических безусловных вероятностей\n",
            "состояний цепи на случайном k-ом шаге:\n",
            " [0.65, 0.15, 0.06, 0.08, 0.06]\n",
            "Проверка, сумма вероятностей равна:  1.0\n"
          ]
        }
      ]
    },
    {
      "cell_type": "markdown",
      "source": [
        "#8\n",
        "Теперь сравним $\\hat{p}(k)$ с $p(k)$:"
      ],
      "metadata": {
        "id": "xeC2AhyBlgTl"
      }
    },
    {
      "cell_type": "code",
      "source": [
        "fig = plt.figure(figsize=(6, 4))\n",
        "ax = fig.add_subplot()\n",
        "\n",
        "x = np.arange(5)\n",
        "y1 = total\n",
        "y2 = p_k_\n",
        "w = 0.3\n",
        "ax.bar(x - w/2, y1, width=w, label = \"Теоретические вероятности\")\n",
        "ax.bar(x + w/2, y2, width=w, label = \"Эмпирические вероятности\")\n",
        "ax.legend()\n",
        "plt.show()"
      ],
      "metadata": {
        "colab": {
          "base_uri": "https://localhost:8080/",
          "height": 265
        },
        "id": "y5RdspS6n4bv",
        "outputId": "d094c5dd-7881-434d-b79d-3ef01e05775f"
      },
      "execution_count": null,
      "outputs": [
        {
          "output_type": "display_data",
          "data": {
            "text/plain": [
              "<Figure size 432x288 with 1 Axes>"
            ],
            "image/png": "[encoded data removed]"
          },
          "metadata": {
            "needs_background": "light"
          }
        }
      ]
    },
    {
      "cell_type": "markdown",
      "source": [
        "#9\n",
        "Вычислим финальные вероятности для рассматриваемой Марковской цепи и сравним их с вероятностями состояний на $k$-ом шаге:\n",
        "\n",
        "\n",
        "*   Транспонируем матрицу переходных состояний:\n",
        "> \n",
        "$\n",
        "P^T = \\begin{bmatrix}\n",
        "0.9 & 0.1 & 0 & 0 & 0.5 \\\\\n",
        "0.1 & 0.7 & 0 & 0 & 0 \\\\\n",
        "0 & 0.2 & 0.7 & 0 & 0 \\\\\n",
        "0 & 0 & 0.3 & 0.6 & 0 \\\\\n",
        "0 & 0 & 0 & 0.4 & 0.5\n",
        "\\end{bmatrix}\n",
        "$\n",
        "\n",
        "*    Составляем СЛАУ, добавляя балансное уравнение:\n",
        "$\\pi_1+\\pi_2+\\pi_3+\\pi_4+\\pi_5=1$\n",
        "\n",
        "Получаем:\n",
        "\\begin{equation*}\n",
        " \\begin{cases}\n",
        "   0.9\\pi_1+0.1\\pi_2+0.5\\pi_5=\\pi_1,\n",
        "   \\\\\n",
        "   0.1\\pi_1+0.7\\pi_2=\\pi_2,\n",
        "   \\\\\n",
        "   0.2\\pi_2+0.7\\pi_3=\\pi_3,\n",
        "   \\\\\n",
        "   0.3\\pi_3+0.6\\pi_4=\\pi_4,\n",
        "   \\\\\n",
        "   0.4\\pi_4+0.5\\pi_5=\\pi_5,\n",
        "   \\\\\n",
        "   \\pi_1+\\pi_2+\\pi_3+\\pi_4+\\pi_5=1\n",
        " \\end{cases}\n",
        "\\end{equation*}\n",
        "\n"
      ],
      "metadata": {
        "id": "EumX5zws-nwB"
      }
    },
    {
      "cell_type": "code",
      "source": [
        "SLAU = np.array([[-0.1, 0.1, 0, 0, 0.5],\n",
        "                 [0.1, -0.3, 0, 0, 0],\n",
        "                 [0, 0.2, -0.3, 0, 0],\n",
        "                 [0, 0, 0.3, -0.4, 0],\n",
        "                 [1, 1, 1, 1, 1]])\n",
        "slau = np.array([0, 0, 0, 0, 1]).reshape((5, 1))\n",
        "total_1 = solve(SLAU, slau)\n",
        "total_1 = total.transpose()\n",
        "print(total_1)\n",
        "print(round(sum(total_1), 5))"
      ],
      "metadata": {
        "colab": {
          "base_uri": "https://localhost:8080/"
        },
        "id": "Yyk1pdu2q6g6",
        "outputId": "234c636e-e3ee-459a-9ca0-1eb3778f809e"
      },
      "execution_count": null,
      "outputs": [
        {
          "output_type": "stream",
          "name": "stdout",
          "text": [
            "[0.53913211 0.17952386 0.1196105  0.08977836 0.07195517]\n",
            "1.0\n"
          ]
        }
      ]
    },
    {
      "cell_type": "markdown",
      "source": [
        "**Получаем финальные вероятности:**\n",
        ">\n",
        "{$0.53892216, 0.17964072, 0.11976048, 0.08982036, 0.07185629$}"
      ],
      "metadata": {
        "id": "WxZo81EMNv0r"
      }
    },
    {
      "cell_type": "code",
      "source": [
        "fig = plt.figure(figsize=(6, 4))\n",
        "ax = fig.add_subplot()\n",
        "\n",
        "x = np.arange(5)\n",
        "y1 = total\n",
        "y2 = p_k_\n",
        "y3 = total_1\n",
        "w = 0.25\n",
        "ax.bar(x - w, y1, width=w, label = \"Теоретические вероятности\")\n",
        "ax.bar(x, y2, width=w, label = \"Эмпирические вероятности\")\n",
        "ax.bar(x + w, y3, width=w, label = \"Финальные вероятности\")\n",
        "ax.legend()\n",
        "plt.show()"
      ],
      "metadata": {
        "colab": {
          "base_uri": "https://localhost:8080/",
          "height": 265
        },
        "id": "qxSQ-guJzMoi",
        "outputId": "21d73d00-6b6f-4430-f18b-19bbfeb34a54"
      },
      "execution_count": null,
      "outputs": [
        {
          "output_type": "display_data",
          "data": {
            "text/plain": [
              "<Figure size 432x288 with 1 Axes>"
            ],
            "image/png": "[encoded data removed]"
          },
          "metadata": {
            "needs_background": "light"
          }
        }
      ]
    },
    {
      "cell_type": "markdown",
      "source": [
        "#Выводы:\n",
        "В ходе работы мной были выполнены все шаги обработки входных данных, таким образом получены: матрица переходных вероятностей, размеченный граф Марковской цепи, смоделированный вектор начальных вероятностей $p(0)$, безусловные вероятности состояний смоделированной цепи на $k$-ом шаге для полученного $p(0)$, смоделированные $n$ траекторий полученной цепи за $k$ шагов, вектор эмпирических безусловных вероятностей состояний цепи на $k$-ом шаге, графическое сравнение эмпирических вероятностей с теоретическими для $k$-ого шага, финальные вероятности, а так же их графическое сравнение с теоретическими вероятностями на $k$-ом шаге и с эмпирическими вероятностями на $k$-ом шаге. По первой диаграмме видно, что эмпирические вероятности в целом распределены как и теоретические, этот факт воспроизводится с каждой новой генерацией случайных величин. По второй диаграмме видно, что теоретические вероятности на $k$-ом шаге равны финальным вероятностям на $k$-ом шаге.\n",
        "\n",
        "---\n",
        "\n"
      ],
      "metadata": {
        "id": "xDBzHyIprt0d"
      }
    },
    {
      "cell_type": "markdown",
      "source": [
        "Далее следуют попытки что-то себе доказать:"
      ],
      "metadata": {
        "id": "AXrurWxcW3a0"
      }
    },
    {
      "cell_type": "code",
      "source": [
        "nodes = []\n",
        "G = nx.DiGraph()\n",
        "G.add_nodes_from(nodes)\n",
        "\n",
        "for i in range(m):\n",
        "  nodes.append(i + 1)\n",
        "for i in range(m):\n",
        "  for j in range(m):\n",
        "    if P[i][j] != 0:\n",
        "      G.add_edge(i + 1, j + 1, weight=P[i][j])\n",
        "\n",
        "pos = nx.circular_layout(G)\n",
        "nx.draw_networkx(G, pos, with_labels=True, node_size=500, arrows=True, linewidths=5)\n",
        "labels = nx.get_edge_attributes(G, 'weight')\n",
        "nx.draw_networkx_edge_labels(G, pos, edge_labels=labels)\n",
        " \n",
        "plt.show()\n"
      ],
      "metadata": {
        "colab": {
          "base_uri": "https://localhost:8080/",
          "height": 248
        },
        "id": "Ejj6Qph7GBl6",
        "outputId": "45e2745d-d86d-4f01-99c0-81b06a53b4ca"
      },
      "execution_count": null,
      "outputs": [
        {
          "output_type": "display_data",
          "data": {
            "text/plain": [
              "<Figure size 432x288 with 1 Axes>"
            ],
            "image/png": "[encoded data removed]"
          },
          "metadata": {}
        }
      ]
    }
  ]
}